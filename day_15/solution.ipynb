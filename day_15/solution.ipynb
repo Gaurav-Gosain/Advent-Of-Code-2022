{
 "cells": [
  {
   "attachments": {},
   "cell_type": "markdown",
   "metadata": {},
   "source": [
    "# Part 1\n"
   ]
  },
  {
   "cell_type": "code",
   "execution_count": 3,
   "metadata": {},
   "outputs": [
    {
     "name": "stdout",
     "output_type": "stream",
     "text": [
      "4879972\n"
     ]
    }
   ],
   "source": [
    "\n",
    "import sys\n",
    "\n",
    "\n",
    "def ints(itr):\n",
    "    return [int(i) for i in itr]\n",
    "\n",
    "\n",
    "with open('input/input.txt') as f:\n",
    "    file_lines = [l for l in f.read().strip().split('\\n')]\n",
    "\n",
    "\n",
    "in_nums = []\n",
    "\n",
    "total = 0\n",
    "result = 0\n",
    "other = 0\n",
    "\n",
    "sensors = []\n",
    "while True:\n",
    "    for l in file_lines:\n",
    "        p1, p2 = l.replace('Sensor at ', '').replace(\n",
    "            'closest beacon is at ', '').replace('x=', '').replace('y=', '').split(': ')\n",
    "        sx, sy = ints(p1.split(','))\n",
    "        bx, by = ints(p2.split(','))\n",
    "        dist = abs(sx-bx) + abs(sy-by)\n",
    "        sensors.append((dist, sx, sy, bx, by))\n",
    "\n",
    "    break\n",
    "\n",
    "\n",
    "y = 2000000\n",
    "# y=10\n",
    "row = {}\n",
    "for d, sx, sy, bx, by in sensors:\n",
    "    r = d\n",
    "    ymin, ymax = sy - r, sy + r\n",
    "    if y >= ymin and y <= ymax:\n",
    "        # find x at this y level\n",
    "        dy = abs(y - sy)\n",
    "        xmin, xmax = sx - (r - dy), sx + (r - dy)\n",
    "        for x in range(xmin, xmax+1):\n",
    "            if not (x == bx and y == by):\n",
    "                row[x] = 1\n",
    "\n",
    "print(sum(row.values()))\n"
   ]
  }
 ],
 "metadata": {
  "kernelspec": {
   "display_name": "Python 3.10.6 64-bit",
   "language": "python",
   "name": "python3"
  },
  "language_info": {
   "codemirror_mode": {
    "name": "ipython",
    "version": 3
   },
   "file_extension": ".py",
   "mimetype": "text/x-python",
   "name": "python",
   "nbconvert_exporter": "python",
   "pygments_lexer": "ipython3",
   "version": "3.10.6 (main, Nov 14 2022, 16:10:14) [GCC 11.3.0]"
  },
  "orig_nbformat": 4,
  "vscode": {
   "interpreter": {
    "hash": "916dbcbb3f70747c44a77c7bcd40155683ae19c65e1c03b4aa3499c5328201f1"
   }
  }
 },
 "nbformat": 4,
 "nbformat_minor": 2
}
