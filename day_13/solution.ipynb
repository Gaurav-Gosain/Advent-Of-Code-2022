{
 "cells": [
  {
   "attachments": {},
   "cell_type": "markdown",
   "metadata": {},
   "source": [
    "# Part 1\n"
   ]
  },
  {
   "cell_type": "code",
   "execution_count": 59,
   "metadata": {},
   "outputs": [
    {
     "data": {
      "text/plain": [
       "5717"
      ]
     },
     "execution_count": 59,
     "metadata": {},
     "output_type": "execute_result"
    }
   ],
   "source": [
    "import ast\n",
    "\n",
    "pairs = [[*map(ast.literal_eval,i.split())]\n",
    "         for i in open(\"input/input.txt\").read().split(\"\\n\\n\")]\n",
    "\n",
    "\n",
    "def compare(a, b, level=0):\n",
    "    l, r = isinstance(a, int), isinstance(b, int)\n",
    "    if l and r:\n",
    "        if a < b:\n",
    "            return True\n",
    "        if a > b:\n",
    "            return False\n",
    "    elif not (l or r):\n",
    "        for lx, rx in zip(a, b):\n",
    "            c = compare(lx, rx, level+1)\n",
    "            if c is not None:\n",
    "                return c\n",
    "        if len(a) < len(b):\n",
    "            return True\n",
    "        if len(a) > len(b):\n",
    "            return False\n",
    "    else:\n",
    "        lp, ip, sw = (a, b, False) if r else (b, a, True)\n",
    "        return compare([ip], lp, level+1) if sw else compare(lp, [ip], level+1)\n",
    "\n",
    "sum((idx + 1) for idx, (a, b) in enumerate(pairs) if compare(a, b, 0))"
   ]
  },
  {
   "cell_type": "code",
   "execution_count": 43,
   "metadata": {},
   "outputs": [
    {
     "data": {
      "text/plain": [
       "([([], '[]'),\n",
       "  ([], '[[[]]]'),\n",
       "  ([], '[[]]'),\n",
       "  ([1, 1, 3, 1, 1], '[1,1,3,1,1]'),\n",
       "  ([1, 1, 5, 1, 1], '[1,1,5,1,1]'),\n",
       "  ([1, 2, 3, 4], '[[1],[2,3,4]]'),\n",
       "  ([1, 2, 3, 4, 5, 6, 0, 8, 9], '[1,[2,[3,[4,[5,6,0]]]],8,9]'),\n",
       "  ([1, 2, 3, 4, 5, 6, 7, 8, 9], '[1,[2,[3,[4,[5,6,7]]]],8,9]'),\n",
       "  ([1, 4], '[[1],4]'),\n",
       "  ([2], '🎅'),\n",
       "  ([3], '[3]'),\n",
       "  ([4, 4, 4, 4], '[[4,4],4,4]'),\n",
       "  ([4, 4, 4, 4, 4], '[[4,4],4,4,4]'),\n",
       "  ([6], '🎅'),\n",
       "  ([7, 7, 7], '[7,7,7]'),\n",
       "  ([7, 7, 7, 7], '[7,7,7,7]'),\n",
       "  ([8, 7, 6], '[[8,7,6]]'),\n",
       "  ([9], '[9]')],\n",
       " 140)"
      ]
     },
     "execution_count": 43,
     "metadata": {},
     "output_type": "execute_result"
    }
   ],
   "source": [
    "import math\n",
    "\n",
    "def flatten_list(l):\n",
    "    return sum(([x] if not isinstance(x, list) else flatten_list(x)\n",
    "                for x in l), [])\n",
    "\n",
    "\n",
    "pairs = [(flatten_list(ast.literal_eval(i)), i)\n",
    "         for i in open(\"input/sample.txt\").read().splitlines() if i] + [([2], '🎅'), ([6], \"🎅\")]\n",
    "\n",
    "sorted_pairs = sorted(pairs, key=lambda x: x[0])\n",
    "\n",
    "filtered_pairs = filter(lambda x: x[1] == \"🎅\", sorted_pairs)\n",
    "\n",
    "sorted_pairs, math.prod(sorted_pairs.index(\n",
    "    pair) + 1 for pair in list(filtered_pairs))\n"
   ]
  },
  {
   "cell_type": "code",
   "execution_count": 63,
   "metadata": {},
   "outputs": [
    {
     "data": {
      "text/plain": [
       "25935"
      ]
     },
     "execution_count": 63,
     "metadata": {},
     "output_type": "execute_result"
    }
   ],
   "source": [
    "import math\n",
    "\n",
    "DIVIDERS = (\n",
    "    [[2]],\n",
    "    [[6]],\n",
    ")\n",
    "\n",
    "class Compare:\n",
    "    def __init__(self, v): self.v = v\n",
    "\n",
    "    def __eq__(self, o): return self.v == o.v\n",
    "\n",
    "    def __lt__(self, r): return compare(self.v, r.v) is True\n",
    "\n",
    "    def compare(l, r, lv=0):\n",
    "        li, ri = isinstance(l, int), isinstance(r, int)\n",
    "        if li and ri:\n",
    "            if l < r: return True\n",
    "            if l > r: return False\n",
    "        elif not (li or ri):\n",
    "            for lx, rx in zip(l, r):\n",
    "                c = compare(lx, rx, lv+1)\n",
    "                if c is not None: return c\n",
    "            if len(l) < len(r):\n",
    "                return True\n",
    "            if len(l) > len(r):\n",
    "                return False\n",
    "        else:\n",
    "            lp, ip, sw = (l, r, False) if ri else (r, l, True)\n",
    "            return compare([ip], lp, lv+1) if sw else compare(lp, [ip], lv+1)\n",
    "\n",
    "\n",
    "items = [Compare(i) for i in DIVIDERS]\n",
    "for line in open(\"input/input.txt\").read().splitlines():\n",
    "    if line: items.append(Compare(eval(line)))\n",
    "\n",
    "\n",
    "math.prod(idx+1 for idx, i in enumerate(sorted(items)) if i.v in DIVIDERS)"
   ]
  }
 ],
 "metadata": {
  "kernelspec": {
   "display_name": "Python 3.10.6 64-bit",
   "language": "python",
   "name": "python3"
  },
  "language_info": {
   "codemirror_mode": {
    "name": "ipython",
    "version": 3
   },
   "file_extension": ".py",
   "mimetype": "text/x-python",
   "name": "python",
   "nbconvert_exporter": "python",
   "pygments_lexer": "ipython3",
   "version": "3.10.6 (main, Nov 14 2022, 16:10:14) [GCC 11.3.0]"
  },
  "orig_nbformat": 4,
  "vscode": {
   "interpreter": {
    "hash": "916dbcbb3f70747c44a77c7bcd40155683ae19c65e1c03b4aa3499c5328201f1"
   }
  }
 },
 "nbformat": 4,
 "nbformat_minor": 2
}
