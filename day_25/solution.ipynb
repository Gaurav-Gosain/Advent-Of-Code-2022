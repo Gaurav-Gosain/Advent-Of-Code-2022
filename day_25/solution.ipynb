{
 "cells": [
  {
   "cell_type": "code",
   "execution_count": 29,
   "metadata": {},
   "outputs": [
    {
     "name": "stdout",
     "output_type": "stream",
     "text": [
      "20==1==12=0111=2--20\n"
     ]
    }
   ],
   "source": [
    "def f(w):\n",
    "    b = 1\n",
    "    o = 0\n",
    "    for c in w[::-1]:\n",
    "        o += ('=-012'.find(c)-2) * b\n",
    "        b *= 5\n",
    "    return o\n",
    "\n",
    "def g(w):\n",
    "    o = []\n",
    "    while w:\n",
    "        r = w % 5\n",
    "        o.append('012=-'[r])\n",
    "        w = w // 5 + (r > 2)\n",
    "    return ''.join(reversed(o)) if o else '0'\n",
    "\n",
    "\n",
    "print(g(sum(map(f, open(\"input/input.txt\").read().splitlines()))))\n"
   ]
  }
 ],
 "metadata": {
  "kernelspec": {
   "display_name": "Python 3",
   "language": "python",
   "name": "python3"
  },
  "language_info": {
   "codemirror_mode": {
    "name": "ipython",
    "version": 3
   },
   "file_extension": ".py",
   "mimetype": "text/x-python",
   "name": "python",
   "nbconvert_exporter": "python",
   "pygments_lexer": "ipython3",
   "version": "3.10.6"
  },
  "orig_nbformat": 4,
  "vscode": {
   "interpreter": {
    "hash": "916dbcbb3f70747c44a77c7bcd40155683ae19c65e1c03b4aa3499c5328201f1"
   }
  }
 },
 "nbformat": 4,
 "nbformat_minor": 2
}
